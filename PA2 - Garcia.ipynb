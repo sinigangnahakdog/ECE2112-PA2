{
 "cells": [
  {
   "cell_type": "markdown",
   "id": "2cb0c45b",
   "metadata": {},
   "source": [
    "Garcia, Eoin Gamliel Rye Q."
   ]
  },
  {
   "cell_type": "code",
   "execution_count": 10,
   "id": "6f7e6506",
   "metadata": {},
   "outputs": [],
   "source": [
    "import numpy as np"
   ]
  },
  {
   "cell_type": "markdown",
   "id": "57b68025",
   "metadata": {},
   "source": [
    "**NORMALIZATION PROBLEM**"
   ]
  },
  {
   "cell_type": "code",
   "execution_count": 13,
   "id": "162a0509",
   "metadata": {},
   "outputs": [
    {
     "data": {
      "text/plain": [
       "array([[0.80001772, 0.05401361, 0.9699225 , 0.20526426, 0.27334176],\n",
       "       [0.01405157, 0.05670422, 0.12337527, 0.88715566, 0.64047495],\n",
       "       [0.65687089, 0.53925825, 0.59973411, 0.47996183, 0.85553678],\n",
       "       [0.89028017, 0.19001815, 0.80504511, 0.61455126, 0.48466836],\n",
       "       [0.04330203, 0.11748968, 0.12632074, 0.5253832 , 0.80124481]])"
      ]
     },
     "execution_count": 13,
     "metadata": {},
     "output_type": "execute_result"
    }
   ],
   "source": [
    "#create a random 5x5 ndarray and store it to the variable X.\n",
    "X = np.random.random((5,5))\n",
    "X"
   ]
  },
  {
   "cell_type": "code",
   "execution_count": 16,
   "id": "7681443e",
   "metadata": {},
   "outputs": [
    {
     "data": {
      "text/plain": [
       "array([[ 1.04867895, -1.32300288,  1.58883693, -0.84214975, -0.62571906],\n",
       "       [-1.45004943, -1.31444893, -1.10248964,  1.32570619,  0.54146366],\n",
       "       [ 0.5935893 ,  0.21967749,  0.41194118,  0.03116346,  1.22518405],\n",
       "       [ 1.33563958, -0.89061989,  1.06466192,  0.45904756,  0.04612638],\n",
       "       [-1.35705693, -1.12120098, -1.09312545,  0.1755662 ,  1.05258007]])"
      ]
     },
     "execution_count": 16,
     "metadata": {},
     "output_type": "execute_result"
    }
   ],
   "source": [
    "#Normalizing X\n",
    "\n",
    "#Obtain the element-wise mean\n",
    "X_mean = X.mean()\n",
    "\n",
    "#Obtain the element-wise standard deviation\n",
    "X_std = X.std()\n",
    "\n",
    "#Use the given formula to obtain normalization\n",
    "X_normalized = (X - X_mean) / X_std\n",
    "X_normalized"
   ]
  },
  {
   "cell_type": "code",
   "execution_count": 21,
   "id": "28f03007",
   "metadata": {},
   "outputs": [],
   "source": [
    "#Save the normalized ndarray as X_normalized.npy\n",
    "np.save ('X_normalized.npy', X_normalized)"
   ]
  },
  {
   "cell_type": "code",
   "execution_count": 24,
   "id": "e2438bdb",
   "metadata": {},
   "outputs": [
    {
     "name": "stdout",
     "output_type": "stream",
     "text": [
      "Array X: \n",
      " [[0.80001772 0.05401361 0.9699225  0.20526426 0.27334176]\n",
      " [0.01405157 0.05670422 0.12337527 0.88715566 0.64047495]\n",
      " [0.65687089 0.53925825 0.59973411 0.47996183 0.85553678]\n",
      " [0.89028017 0.19001815 0.80504511 0.61455126 0.48466836]\n",
      " [0.04330203 0.11748968 0.12632074 0.5253832  0.80124481]]\n",
      "\n",
      "Normalized Array X: \n",
      " [[ 1.04867895 -1.32300288  1.58883693 -0.84214975 -0.62571906]\n",
      " [-1.45004943 -1.31444893 -1.10248964  1.32570619  0.54146366]\n",
      " [ 0.5935893   0.21967749  0.41194118  0.03116346  1.22518405]\n",
      " [ 1.33563958 -0.89061989  1.06466192  0.45904756  0.04612638]\n",
      " [-1.35705693 -1.12120098 -1.09312545  0.1755662   1.05258007]]\n"
     ]
    }
   ],
   "source": [
    "#Output arrays\n",
    "print (\"Array X: \\n\" , X)\n",
    "print (\"\\nNormalized Array X: \\n\" , X_normalized)"
   ]
  },
  {
   "cell_type": "markdown",
   "id": "ad59dceb",
   "metadata": {},
   "source": [
    "**DIVISIBLE BY 3 PROBLEM**"
   ]
  },
  {
   "cell_type": "code",
   "execution_count": 25,
   "id": "2ec346b1",
   "metadata": {},
   "outputs": [
    {
     "data": {
      "text/plain": [
       "array([[    1,     4,     9,    16,    25,    36,    49,    64,    81,\n",
       "          100],\n",
       "       [  121,   144,   169,   196,   225,   256,   289,   324,   361,\n",
       "          400],\n",
       "       [  441,   484,   529,   576,   625,   676,   729,   784,   841,\n",
       "          900],\n",
       "       [  961,  1024,  1089,  1156,  1225,  1296,  1369,  1444,  1521,\n",
       "         1600],\n",
       "       [ 1681,  1764,  1849,  1936,  2025,  2116,  2209,  2304,  2401,\n",
       "         2500],\n",
       "       [ 2601,  2704,  2809,  2916,  3025,  3136,  3249,  3364,  3481,\n",
       "         3600],\n",
       "       [ 3721,  3844,  3969,  4096,  4225,  4356,  4489,  4624,  4761,\n",
       "         4900],\n",
       "       [ 5041,  5184,  5329,  5476,  5625,  5776,  5929,  6084,  6241,\n",
       "         6400],\n",
       "       [ 6561,  6724,  6889,  7056,  7225,  7396,  7569,  7744,  7921,\n",
       "         8100],\n",
       "       [ 8281,  8464,  8649,  8836,  9025,  9216,  9409,  9604,  9801,\n",
       "        10000]])"
      ]
     },
     "execution_count": 25,
     "metadata": {},
     "output_type": "execute_result"
    }
   ],
   "source": [
    "#Make a 10x10 ndarray that contains the squares of the first 100 positive integers\n",
    "A = np.arange (1,101)**2\n",
    "A = A.reshape (10,10)\n",
    "A"
   ]
  },
  {
   "cell_type": "code",
   "execution_count": null,
   "id": "6d4d290c",
   "metadata": {},
   "outputs": [
    {
     "data": {
      "text/plain": [
       "array([   9,   36,   81,  144,  225,  324,  441,  576,  729,  900, 1089,\n",
       "       1296, 1521, 1764, 2025, 2304, 2601, 2916, 3249, 3600, 3969, 4356,\n",
       "       4761, 5184, 5625, 6084, 6561, 7056, 7569, 8100, 8649, 9216, 9801])"
      ]
     },
     "execution_count": 26,
     "metadata": {},
     "output_type": "execute_result"
    }
   ],
   "source": [
    "#Determine the elements that are divisible by 3\n",
    "div_by_3 = A[A % 3 == 0]\n",
    "div_by_3"
   ]
  },
  {
   "cell_type": "code",
   "execution_count": null,
   "id": "a6fff8ae",
   "metadata": {},
   "outputs": [],
   "source": [
    "#Save the ndarray as div_by_3.npy\n",
    "np.save ('div_by_3.npy', div_by_3)"
   ]
  },
  {
   "cell_type": "code",
   "execution_count": null,
   "id": "7fea12e1",
   "metadata": {},
   "outputs": [
    {
     "name": "stdout",
     "output_type": "stream",
     "text": [
      "Array A: \n",
      " [[    1     4     9    16    25    36    49    64    81   100]\n",
      " [  121   144   169   196   225   256   289   324   361   400]\n",
      " [  441   484   529   576   625   676   729   784   841   900]\n",
      " [  961  1024  1089  1156  1225  1296  1369  1444  1521  1600]\n",
      " [ 1681  1764  1849  1936  2025  2116  2209  2304  2401  2500]\n",
      " [ 2601  2704  2809  2916  3025  3136  3249  3364  3481  3600]\n",
      " [ 3721  3844  3969  4096  4225  4356  4489  4624  4761  4900]\n",
      " [ 5041  5184  5329  5476  5625  5776  5929  6084  6241  6400]\n",
      " [ 6561  6724  6889  7056  7225  7396  7569  7744  7921  8100]\n",
      " [ 8281  8464  8649  8836  9025  9216  9409  9604  9801 10000]]\n",
      "\n",
      "Elements divisible by 3: \n",
      " [   9   36   81  144  225  324  441  576  729  900 1089 1296 1521 1764\n",
      " 2025 2304 2601 2916 3249 3600 3969 4356 4761 5184 5625 6084 6561 7056\n",
      " 7569 8100 8649 9216 9801]\n"
     ]
    }
   ],
   "source": [
    "#Output the ndarray\n",
    "print (\"Array A: \\n\", A)\n",
    "print (\"\\nElements divisible by 3: \\n\", div_by_3)"
   ]
  }
 ],
 "metadata": {
  "kernelspec": {
   "display_name": "Python 3",
   "language": "python",
   "name": "python3"
  },
  "language_info": {
   "codemirror_mode": {
    "name": "ipython",
    "version": 3
   },
   "file_extension": ".py",
   "mimetype": "text/x-python",
   "name": "python",
   "nbconvert_exporter": "python",
   "pygments_lexer": "ipython3",
   "version": "3.11.9"
  }
 },
 "nbformat": 4,
 "nbformat_minor": 5
}
